{
 "cells": [
  {
   "cell_type": "code",
   "execution_count": null,
   "id": "polar-impact",
   "metadata": {},
   "outputs": [],
   "source": []
  },
  {
   "cell_type": "markdown",
   "id": "irish-radiation",
   "metadata": {},
   "source": [
    "```python\n",
    "def extract_sql(*args, **kwargs):\n",
    "    ti = kwargs['ti']\n",
    "    ti.xcom_push(key = 'execution_time', value = kwargs['ds'])\n",
    "    return kwargs['ds']\n",
    "\n",
    "def get_from_s3(*args, **kwargs):\n",
    "    ti = kwargs['ti']\n",
    "    pulled_val = ti.xcom_pull(key = 'return_value', task_ids = ['sql_task'])\n",
    "    return pulled_val\n",
    "\n",
    "dag = DAG(dag_id = 'etl_dag', start_date = datetime.now() - timedelta(days = 1))\n",
    "\n",
    "sql_task = PythonOperator(\n",
    "    task_id='sql_task',\n",
    "    python_callable=extract_sql,\n",
    "    provide_context = True,\n",
    "    dag=dag)\n",
    "\n",
    "get_from_s3_task = PythonOperator(\n",
    "    task_id='s3_task',\n",
    "    python_callable=get_from_s3,\n",
    "    provide_context = True,\n",
    "    dag=dag)\n",
    "\n",
    "sql_task >> get_from_s3_task\n",
    "```"
   ]
  },
  {
   "cell_type": "code",
   "execution_count": null,
   "id": "antique-security",
   "metadata": {},
   "outputs": [],
   "source": []
  },
  {
   "cell_type": "code",
   "execution_count": null,
   "id": "understood-authority",
   "metadata": {},
   "outputs": [],
   "source": []
  }
 ],
 "metadata": {
  "kernelspec": {
   "display_name": "Python 3",
   "language": "python",
   "name": "python3"
  },
  "language_info": {
   "codemirror_mode": {
    "name": "ipython",
    "version": 3
   },
   "file_extension": ".py",
   "mimetype": "text/x-python",
   "name": "python",
   "nbconvert_exporter": "python",
   "pygments_lexer": "ipython3",
   "version": "3.8.6"
  }
 },
 "nbformat": 4,
 "nbformat_minor": 5
}
