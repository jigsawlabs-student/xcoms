{
 "cells": [
  {
   "cell_type": "markdown",
   "id": "pretty-niagara",
   "metadata": {},
   "source": [
    "# Working with XComs"
   ]
  },
  {
   "cell_type": "markdown",
   "id": "activated-sense",
   "metadata": {},
   "source": [
    "### Introduction"
   ]
  },
  {
   "cell_type": "markdown",
   "id": "unusual-unknown",
   "metadata": {},
   "source": [
    "In the last lesson, we saw how to retrieve metadata about a task through the use of a context.  By using a context, we can retrieve information about the current task that is occurring.  But what if we need to access information from a different task?  In this lesson, we'll learn how to pass information between tasks with the use of xcoms."
   ]
  },
  {
   "cell_type": "markdown",
   "id": "relevant-external",
   "metadata": {},
   "source": [
    "### Exploring Xcoms"
   ]
  },
  {
   "cell_type": "markdown",
   "id": "dress-reducing",
   "metadata": {},
   "source": [
    "The term XCom is short for cross-communication, and it allows us to pass information from one task to another.  It turns out that if we run a task with a return value, we already have Xcom values available to us.  \n",
    "\n",
    "For example, let's assume that we have defined a DAG that looks like the following:"
   ]
  },
  {
   "cell_type": "markdown",
   "id": "potential-spain",
   "metadata": {},
   "source": [
    "```python\n",
    "dag = DAG(dag_id = 'etl_dag', start_date = datetime.now() - timedelta(days = 1))\n",
    "\n",
    "def hello_world():\n",
    "    return 'hello world'\n",
    "\n",
    "sql_task = PythonOperator(\n",
    "    task_id='sql_task',\n",
    "    python_callable=dag,\n",
    "    dag=dag)\n",
    "```"
   ]
  },
  {
   "cell_type": "markdown",
   "id": "timely-increase",
   "metadata": {},
   "source": [
    "Then, going to our webserver, we can go to the `Admin > XComs` panel and see the following:"
   ]
  },
  {
   "cell_type": "markdown",
   "id": "dried-malaysia",
   "metadata": {},
   "source": [
    "> <img src=\"./xcom_task.png\" width=\"100%\">"
   ]
  },
  {
   "cell_type": "markdown",
   "id": "crazy-rogers",
   "metadata": {},
   "source": [
    "So, looking over to the right, we can see that this Xcom is from the `Dag` of `etl_dag`, and from the task of `hello_task`.  Over to the left we can see it stored in a key of `return_value`, the `Value` of `hello world`.  \n",
    "\n",
    "So from this record, we see that our `hello_task` created an Xcom with a key of `return_value` and a value of `hello world`."
   ]
  },
  {
   "cell_type": "markdown",
   "id": "better-editing",
   "metadata": {},
   "source": [
    "So that Xcom was created simply by returning a value from our task.  \n",
    "\n",
    "> Every time we return a value from a task, we will get an Xcom with a key of `return_value`.\n",
    "\n",
    "Now let's have our task create another Xcom, with a different key.\n",
    "\n",
    "> We update our code to look like the following."
   ]
  },
  {
   "cell_type": "markdown",
   "id": "architectural-study",
   "metadata": {},
   "source": [
    "```python\n",
    "def hello_everyone(*args, **kwargs):\n",
    "    ti = kwargs['ti']\n",
    "    ti.xcom_push(key = 'execution_time', value = kwargs['ds'])\n",
    "    return 'hello world'\n",
    "\n",
    "hello_task = PythonOperator(\n",
    "    task_id='hello_task',\n",
    "    python_callable=hello_everyone,\n",
    "    provide_context = True,\n",
    "    dag=dag)\n",
    "```"
   ]
  },
  {
   "cell_type": "markdown",
   "id": "incoming-failure",
   "metadata": {},
   "source": [
    "So this time, in creating our task, we provide the argument `provide_context = True`.  And then, in the executed function, we can access the `task instance`, with `kwargs['ti']`.  From there, we call `xcom_push` setting a key of `execution_time` and a `value` of the date and time when the task is executed, by calling `kwargs['ds']`."
   ]
  },
  {
   "cell_type": "markdown",
   "id": "fourth-litigation",
   "metadata": {},
   "source": [
    "> If we take another look at our Xcom panel, we can see we added another xcom with a key of `execution_time` and a value of the datetime when the task was run."
   ]
  },
  {
   "cell_type": "markdown",
   "id": "furnished-coordinate",
   "metadata": {},
   "source": [
    "> <img src=\"./updated_xcom.png\" width=\"100%\">"
   ]
  },
  {
   "cell_type": "markdown",
   "id": "faced-husband",
   "metadata": {},
   "source": [
    "So we can see that Xcoms almost operate as a key-value store related to our task.  And that to add a Xcom to a task, we first retrieve the task, and then specify the key and related value.\n",
    "\n",
    "```python\n",
    "ti = kwargs['ti']\n",
    "ti.xcom_push(key = 'execution_time', value = kwargs['ds'])\n",
    "```"
   ]
  },
  {
   "cell_type": "markdown",
   "id": "cutting-horizontal",
   "metadata": {},
   "source": [
    "### Retrieving an Xcom"
   ]
  },
  {
   "cell_type": "markdown",
   "id": "tropical-conspiracy",
   "metadata": {},
   "source": [
    "Now Xcom stands for cross communiation.  So the point is to push some information from one task, and then retrieve this information while inside of a separate task.  So far we have only pushed information.  Now it's time to retrieve it.\n",
    "\n",
    "Ok, so here's how we can retrieve an Xcom."
   ]
  },
  {
   "cell_type": "markdown",
   "id": "received-myrtle",
   "metadata": {},
   "source": [
    "> We'll create a new task that calls the function `goodbye_all`.  And then, in the related function, we retrieve the `task instance`, and there call `xcom_pull` specifying the `key` and the related `task_id` where it comes from.  Finally, we return the retrieved Xcom value."
   ]
  },
  {
   "cell_type": "markdown",
   "id": "handy-likelihood",
   "metadata": {},
   "source": [
    "```python\n",
    "def goodbye_all(*args, **kwargs):\n",
    "    ti = kwargs['ti']\n",
    "    hello_task_time = ti.xcom_pull(key = 'execution_time', task_ids = ['hello_task'])\n",
    "    return hello_task_time\n",
    "\n",
    "goodbye_task = PythonOperator(\n",
    "    task_id='goodbye_task',\n",
    "    python_callable=goodbye_all,\n",
    "    provide_context = True,\n",
    "    dag=dag)\n",
    "```"
   ]
  },
  {
   "cell_type": "markdown",
   "id": "rural-torture",
   "metadata": {},
   "source": [
    "And now if we look at the Xcom panel we can see that we pushed the xcom with key of `execution_time` from the `hello_task`, and retreived it, and returned the value from the `goodbye_task`."
   ]
  },
  {
   "cell_type": "markdown",
   "id": "proper-subscription",
   "metadata": {},
   "source": [
    "> <img src=\"./returned_execution.png\" width=\"100%\">"
   ]
  },
  {
   "cell_type": "markdown",
   "id": "senior-sharing",
   "metadata": {},
   "source": [
    "So we have successfully seen how we can use Xcoms to pass information between tasks.  This can be useful for say passing the name of a file created from one task, and then accessing that file name from another task so that it can be read from."
   ]
  },
  {
   "cell_type": "markdown",
   "id": "proprietary-wilderness",
   "metadata": {},
   "source": [
    "### Summary"
   ]
  },
  {
   "cell_type": "markdown",
   "id": "cognitive-committee",
   "metadata": {},
   "source": [
    "In this lesson, we learned how to push and pull xcoms.  We saw that an xcom is automatically created from a task, simply by returning a value from the task's function.  But we can push an xcom from a task with a specific key with something like the following:  "
   ]
  },
  {
   "cell_type": "markdown",
   "id": "unlimited-flesh",
   "metadata": {},
   "source": [
    "```python\n",
    "def hello_everyone(*args, **kwargs):\n",
    "    ti = kwargs['ti']\n",
    "    ti.xcom_push(key = 'execution_time', value = kwargs['ds'])\n",
    "```"
   ]
  },
  {
   "cell_type": "markdown",
   "id": "grand-holocaust",
   "metadata": {},
   "source": [
    "Then, we can retrieve that xcom from a separate task like so:"
   ]
  },
  {
   "cell_type": "markdown",
   "id": "italian-mitchell",
   "metadata": {},
   "source": [
    "```python\n",
    "def goodbye_all(*args, **kwargs):\n",
    "    ti = kwargs['ti']\n",
    "    hello_task_time = ti.xcom_pull(key = 'execution_time', task_ids = ['hello_task'])\n",
    "    return hello_task_time\n",
    "```"
   ]
  },
  {
   "cell_type": "markdown",
   "id": "south-wayne",
   "metadata": {},
   "source": [
    "So again, we retrieve the task instance, and this time use the `xcom_pull` function, specifying the key of `execution_time` and the set of `task_ids` we want to look for that key in.  Here, we are looking for the xcom in the `hello_task`."
   ]
  }
 ],
 "metadata": {
  "kernelspec": {
   "display_name": "Python 3",
   "language": "python",
   "name": "python3"
  },
  "language_info": {
   "codemirror_mode": {
    "name": "ipython",
    "version": 3
   },
   "file_extension": ".py",
   "mimetype": "text/x-python",
   "name": "python",
   "nbconvert_exporter": "python",
   "pygments_lexer": "ipython3",
   "version": "3.8.6"
  }
 },
 "nbformat": 4,
 "nbformat_minor": 5
}
